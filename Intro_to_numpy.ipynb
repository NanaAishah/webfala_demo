{
 "cells": [
  {
   "cell_type": "code",
   "execution_count": null,
   "id": "8576e928-7856-4dd7-a34b-1dda3ee8b98a",
   "metadata": {},
   "outputs": [],
   "source": []
  }
 ],
 "metadata": {
  "kernelspec": {
   "display_name": "",
   "name": ""
  },
  "language_info": {
   "name": ""
  }
 },
 "nbformat": 4,
 "nbformat_minor": 5
}
